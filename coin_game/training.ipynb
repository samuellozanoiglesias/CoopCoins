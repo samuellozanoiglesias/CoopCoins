{
 "cells": [
  {
   "cell_type": "code",
   "execution_count": 1,
   "id": "8bfe3888",
   "metadata": {},
   "outputs": [
    {
     "name": "stderr",
     "output_type": "stream",
     "text": [
      "CUDA backend failed to initialize: Unable to use CUDA because of the following issues with CUDA components:\n",
      "Outdated CUDA installation found.\n",
      "Version JAX was built against: 12030\n",
      "Minimum supported: 12010\n",
      "Installed version: 12000\n",
      "The local installation version must be no lower than 12010.\n",
      "--------------------------------------------------\n",
      "Outdated cuBLAS installation found.\n",
      "Version JAX was built against: 120304\n",
      "Minimum supported: 120100\n",
      "Installed version: 120002\n",
      "The local installation version must be no lower than 120100.\n",
      "--------------------------------------------------\n",
      "Outdated cuSPARSE installation found.\n",
      "Version JAX was built against: 12200\n",
      "Minimum supported: 12100\n",
      "Installed version: 12001\n",
      "The local installation version must be no lower than 12100..(Set TF_CPP_MIN_LOG_LEVEL=0 and rerun for more info.)\n"
     ]
    }
   ],
   "source": [
    "import jax\n",
    "import jax.numpy as jnp\n",
    "import optax\n",
    "import numpy as np\n",
    "from jaxmarl.environments.coin_game.make_train import make_train"
   ]
  },
  {
   "cell_type": "code",
   "execution_count": null,
   "id": "012e18fb",
   "metadata": {},
   "outputs": [],
   "source": [
    "# Hiperparámetros\n",
    "NUM_ENVS = 4\n",
    "NUM_INNER_STEPS = 50\n",
    "NUM_EPOCHS = 500\n",
    "NUM_AGENTS = 2\n",
    "SHOW_EVERY_N_EPOCHS = 10\n",
    "SAVE_EVERY_N_EPOCHS = 50\n",
    "LR = 1e-4\n",
    "PAYOFF_MATRIX = [[1, 2, -2], [1, 2, -2]]\n",
    "GRID_SIZE = 4\n",
    "REWARD_COEF = [[1, 0], [1, 0]]"
   ]
  },
  {
   "cell_type": "code",
   "execution_count": null,
   "id": "f430ae98",
   "metadata": {},
   "outputs": [],
   "source": [
    "save_dir = '/data/samuel_lozano/coin_game/Prisioner_dilemma/'\n",
    "training_type = 'AC Epoch'\n",
    "\n",
    "config = {\n",
    "    \"NUM_ENVS\": NUM_ENVS,\n",
    "    \"NUM_INNER_STEPS\": NUM_INNER_STEPS,\n",
    "    \"NUM_EPOCHS\": NUM_EPOCHS,\n",
    "    \"NUM_AGENTS\": NUM_AGENTS,\n",
    "    \"SHOW_EVERY_N_EPOCHS\": SHOW_EVERY_N_EPOCHS,\n",
    "    \"SAVE_EVERY_N_EPOCHS\": SAVE_EVERY_N_EPOCHS,\n",
    "    \"LR\": LR,\n",
    "    \"PAYOFF_MATRIX\": PAYOFF_MATRIX,\n",
    "    \"GRID_SIZE\": GRID_SIZE,\n",
    "    \"REWARD_COEF\": REWARD_COEF,\n",
    "    \"SAVE_DIR\": save_dir,\n",
    "    \"TRAINING_TYPE\": training_type\n",
    "}\n",
    "\n",
    "params = make_train(config)"
   ]
  },
  {
   "cell_type": "code",
   "execution_count": null,
   "id": "6f7a41b6",
   "metadata": {},
   "outputs": [],
   "source": []
  },
  {
   "cell_type": "code",
   "execution_count": null,
   "id": "f773cc8f",
   "metadata": {},
   "outputs": [],
   "source": []
  }
 ],
 "metadata": {
  "kernelspec": {
   "display_name": "JaxMARL_TFM",
   "language": "python",
   "name": "python3"
  },
  "language_info": {
   "codemirror_mode": {
    "name": "ipython",
    "version": 3
   },
   "file_extension": ".py",
   "mimetype": "text/x-python",
   "name": "python",
   "nbconvert_exporter": "python",
   "pygments_lexer": "ipython3",
   "version": "3.10.16"
  }
 },
 "nbformat": 4,
 "nbformat_minor": 5
}
