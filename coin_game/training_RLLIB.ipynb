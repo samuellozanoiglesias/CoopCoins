{
 "cells": [
  {
   "cell_type": "code",
   "execution_count": 2,
   "metadata": {},
   "outputs": [],
   "source": [
    "import jax\n",
    "import jax.numpy as jnp\n",
    "import optax\n",
    "import numpy as np\n",
    "from jaxmarl.environments.coin_game.make_train_RLLIB import make_train_RLLIB        \n",
    "import os\n",
    "import re\n",
    "import pandas as pd\n",
    "import matplotlib.pyplot as plt\n",
    "from datetime import datetime\n",
    "\n",
    "import warnings\n",
    "warnings.filterwarnings(\"ignore\", category=DeprecationWarning)"
   ]
  },
  {
   "cell_type": "code",
   "execution_count": 3,
   "metadata": {},
   "outputs": [],
   "source": [
    "# Hiperparámetros\n",
    "NUM_ENVS = 4\n",
    "NUM_INNER_STEPS = 200\n",
    "NUM_EPOCHS = 3000\n",
    "NUM_AGENTS = 2\n",
    "SHOW_EVERY_N_EPOCHS = 100\n",
    "SAVE_EVERY_N_EPOCHS = 500\n",
    "LR = 1e-4\n",
    "PAYOFF_MATRIX = [[1, 2, -3], [1, 2, -3]]\n",
    "GRID_SIZE = 3\n",
    "REWARD_COEF = [[1, 0], [1, 0]]"
   ]
  },
  {
   "cell_type": "code",
   "execution_count": null,
   "metadata": {},
   "outputs": [],
   "source": [
    "#local = '/mnt/lustre/home/samuloza'\n",
    "local = 'D:/OneDrive - Universidad Complutense de Madrid (UCM)/Doctorado'\n",
    "save_dir = f'{local}/data/samuel_lozano/CoopCoins/pruebas/Prisioner_dilemma/'\n",
    "current_date = datetime.now().strftime(\"%Y-%m-%d_%H-%M-%S\")\n",
    "\n",
    "config = {\n",
    "    \"NUM_ENVS\": NUM_ENVS,\n",
    "    \"NUM_INNER_STEPS\": NUM_INNER_STEPS,\n",
    "    \"NUM_EPOCHS\": NUM_EPOCHS,\n",
    "    \"NUM_AGENTS\": NUM_AGENTS,\n",
    "    \"SHOW_EVERY_N_EPOCHS\": SHOW_EVERY_N_EPOCHS,\n",
    "    \"SAVE_EVERY_N_EPOCHS\": SAVE_EVERY_N_EPOCHS,\n",
    "    \"LR\": LR,\n",
    "    \"PAYOFF_MATRIX\": PAYOFF_MATRIX,\n",
    "    \"GRID_SIZE\": GRID_SIZE,\n",
    "    \"REWARD_COEF\": REWARD_COEF,\n",
    "    \"SAVE_DIR\": save_dir,\n",
    "    # RLlib specific parameters\n",
    "    \"NUM_UPDATES\": 5,  # Number of updates of the policy\n",
    "    \"GAMMA\": 0.995,  # Discount factor\n",
    "    \"GAE_LAMBDA\": 0.95,  # GAE-Lambda parameter\n",
    "    \"ENT_COEF\": 0.01,  # Entropy coefficient\n",
    "    \"CLIP_EPS\": 0.2,  # PPO clip parameter\n",
    "    \"VF_COEF\": 0.5  # Value function coefficient\n",
    "}\n",
    "\n",
    "trainer, current_date = make_train_RLLIB(config)"
   ]
  },
  {
   "cell_type": "code",
   "execution_count": null,
   "metadata": {},
   "outputs": [],
   "source": []
  }
 ],
 "metadata": {
  "kernelspec": {
   "display_name": "JaxMARL_TFM",
   "language": "python",
   "name": "python3"
  },
  "language_info": {
   "codemirror_mode": {
    "name": "ipython",
    "version": 3
   },
   "file_extension": ".py",
   "mimetype": "text/x-python",
   "name": "python",
   "nbconvert_exporter": "python",
   "pygments_lexer": "ipython3",
   "version": "3.10.18"
  }
 },
 "nbformat": 4,
 "nbformat_minor": 2
}
