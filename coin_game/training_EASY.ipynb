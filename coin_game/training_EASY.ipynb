{
 "cells": [
  {
   "cell_type": "code",
   "execution_count": 1,
   "metadata": {},
   "outputs": [],
   "source": [
    "import jax\n",
    "import jax.numpy as jnp\n",
    "import optax\n",
    "import numpy as np\n",
    "from jaxmarl.environments.coin_game.make_train_EASY import make_train_EASY       \n",
    "import os\n",
    "import re\n",
    "import pandas as pd\n",
    "import matplotlib.pyplot as plt\n",
    "from datetime import datetime\n",
    "\n",
    "import warnings\n",
    "warnings.filterwarnings(\"ignore\", category=DeprecationWarning)"
   ]
  },
  {
   "cell_type": "code",
   "execution_count": 2,
   "metadata": {},
   "outputs": [],
   "source": [
    "# Hiperparámetros\n",
    "NUM_ENVS = 4\n",
    "NUM_INNER_STEPS = 300\n",
    "NUM_UPDATES_PER_EPOCH = 150\n",
    "NUM_EPOCHS = 100000\n",
    "NUM_AGENTS = 2\n",
    "SHOW_EVERY_N_EPOCHS = 25\n",
    "SAVE_EVERY_N_EPOCHS = 500\n",
    "LR = 3e-4\n",
    "PAYOFF_MATRIX = [[1, 0, 0], [1, 0, 0]]\n",
    "GRID_SIZE = 4\n",
    "REWARD_COEF = [[1, 0], [1, 0]]"
   ]
  },
  {
   "cell_type": "code",
   "execution_count": null,
   "metadata": {},
   "outputs": [],
   "source": [
    "#local = '/mnt/lustre/home/samuloza'\n",
    "local = 'D:/OneDrive - Universidad Complutense de Madrid (UCM)/Doctorado'\n",
    "save_dir = f'{local}/data/samuel_lozano/coin_game/pruebas/Prisioner_dilemma/'\n",
    "current_date = datetime.now().strftime(\"%Y-%m-%d_%H-%M-%S\")\n",
    "\n",
    "config = {\n",
    "    \"NUM_ENVS\": NUM_ENVS,\n",
    "    \"NUM_INNER_STEPS\": NUM_INNER_STEPS,\n",
    "    \"NUM_EPOCHS\": NUM_EPOCHS,\n",
    "    \"NUM_AGENTS\": NUM_AGENTS,\n",
    "    \"SHOW_EVERY_N_EPOCHS\": SHOW_EVERY_N_EPOCHS,\n",
    "    \"SAVE_EVERY_N_EPOCHS\": SAVE_EVERY_N_EPOCHS,\n",
    "    \"LR\": LR,\n",
    "    \"PAYOFF_MATRIX\": PAYOFF_MATRIX,\n",
    "    \"GRID_SIZE\": GRID_SIZE,\n",
    "    \"REWARD_COEF\": REWARD_COEF,\n",
    "    \"SAVE_DIR\": save_dir,\n",
    "    \"GAMMA\": 0.99,  # Slightly reduced for more immediate rewards\n",
    "    \"GAE_LAMBDA\": 0.95,  # GAE-Lambda parameter\n",
    "    \"ENT_COEF\": 0.15,  # Increased entropy coefficient for better exploration\n",
    "    \"CLIP_EPS\": 0.1,  # PPO clip parameter\n",
    "    \"VF_COEF\": 0.7,  # Value function coefficient\n",
    "    \"MAX_GRAD_NORM\": 0.5,  # Gradient clipping\n",
    "    \"MINIBATCH_SIZE\": NUM_INNER_STEPS // NUM_UPDATES_PER_EPOCH,\n",
    "    \"NUM_UPDATES_PER_MINIBATCH\": 4,\n",
    "    \"DEVICE\": jax.devices()\n",
    "}\n",
    "\n",
    "trainer, current_date = make_train_EASY(config)"
   ]
  },
  {
   "cell_type": "code",
   "execution_count": null,
   "metadata": {},
   "outputs": [],
   "source": []
  }
 ],
 "metadata": {
  "kernelspec": {
   "display_name": "JaxMARL_TFM",
   "language": "python",
   "name": "python3"
  },
  "language_info": {
   "codemirror_mode": {
    "name": "ipython",
    "version": 3
   },
   "file_extension": ".py",
   "mimetype": "text/x-python",
   "name": "python",
   "nbconvert_exporter": "python",
   "pygments_lexer": "ipython3",
   "version": "3.10.18"
  }
 },
 "nbformat": 4,
 "nbformat_minor": 2
}
